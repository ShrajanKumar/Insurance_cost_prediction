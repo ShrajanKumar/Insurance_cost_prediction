{
 "cells": [
  {
   "cell_type": "code",
   "execution_count": 8,
   "id": "e90535c7",
   "metadata": {},
   "outputs": [],
   "source": [
    "import pickle as pl\n",
    "import numpy as np\n",
    "from capper import OutlierCapper\n",
    "from log_trf import log1p_transform"
   ]
  },
  {
   "cell_type": "code",
   "execution_count": 9,
   "id": "26fd1d58",
   "metadata": {},
   "outputs": [],
   "source": [
    "\n",
    "pipe = pl.load(open('model.pkl','rb'))"
   ]
  },
  {
   "cell_type": "code",
   "execution_count": 10,
   "id": "945be9f9",
   "metadata": {},
   "outputs": [
    {
     "data": {
      "text/plain": [
       "array([36829.70485175])"
      ]
     },
     "execution_count": 10,
     "metadata": {},
     "output_type": "execute_result"
    }
   ],
   "source": [
    "test_input2 = np.array([54,47.41,0,'yes'],dtype=object).reshape(1,4)\n",
    "\n",
    "pipe.predict(test_input2)"
   ]
  },
  {
   "cell_type": "code",
   "execution_count": null,
   "id": "2b27545d",
   "metadata": {},
   "outputs": [],
   "source": []
  }
 ],
 "metadata": {
  "kernelspec": {
   "display_name": "Python 3 (ipykernel)",
   "language": "python",
   "name": "python3"
  },
  "language_info": {
   "codemirror_mode": {
    "name": "ipython",
    "version": 3
   },
   "file_extension": ".py",
   "mimetype": "text/x-python",
   "name": "python",
   "nbconvert_exporter": "python",
   "pygments_lexer": "ipython3",
   "version": "3.9.18"
  }
 },
 "nbformat": 4,
 "nbformat_minor": 5
}
