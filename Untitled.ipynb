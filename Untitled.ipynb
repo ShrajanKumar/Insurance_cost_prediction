{
 "cells": [
  {
   "cell_type": "code",
   "execution_count": 67,
   "id": "e7f31ef8",
   "metadata": {},
   "outputs": [],
   "source": [
    "#importing necessary libraries\n",
    "\n",
    "import numpy as np\n",
    "import pandas as pd\n",
    "import matplotlib.pyplot as plt\n",
    "import seaborn as sns\n",
    "from scipy import stats\n",
    "from sklearn.linear_model import LinearRegression\n",
    "from sklearn.metrics import r2_score"
   ]
  },
  {
   "cell_type": "code",
   "execution_count": 2,
   "id": "2123c86f",
   "metadata": {},
   "outputs": [],
   "source": [
    "#loading data set\n",
    "\n",
    "df=pd.read_csv('insurance.csv')"
   ]
  },
  {
   "cell_type": "code",
   "execution_count": 3,
   "id": "3b8d871e",
   "metadata": {},
   "outputs": [
    {
     "data": {
      "text/html": [
       "<div>\n",
       "<style scoped>\n",
       "    .dataframe tbody tr th:only-of-type {\n",
       "        vertical-align: middle;\n",
       "    }\n",
       "\n",
       "    .dataframe tbody tr th {\n",
       "        vertical-align: top;\n",
       "    }\n",
       "\n",
       "    .dataframe thead th {\n",
       "        text-align: right;\n",
       "    }\n",
       "</style>\n",
       "<table border=\"1\" class=\"dataframe\">\n",
       "  <thead>\n",
       "    <tr style=\"text-align: right;\">\n",
       "      <th></th>\n",
       "      <th>age</th>\n",
       "      <th>sex</th>\n",
       "      <th>bmi</th>\n",
       "      <th>children</th>\n",
       "      <th>smoker</th>\n",
       "      <th>region</th>\n",
       "      <th>charges</th>\n",
       "    </tr>\n",
       "  </thead>\n",
       "  <tbody>\n",
       "    <tr>\n",
       "      <th>0</th>\n",
       "      <td>19</td>\n",
       "      <td>female</td>\n",
       "      <td>27.900</td>\n",
       "      <td>0</td>\n",
       "      <td>yes</td>\n",
       "      <td>southwest</td>\n",
       "      <td>16884.92400</td>\n",
       "    </tr>\n",
       "    <tr>\n",
       "      <th>1</th>\n",
       "      <td>18</td>\n",
       "      <td>male</td>\n",
       "      <td>33.770</td>\n",
       "      <td>1</td>\n",
       "      <td>no</td>\n",
       "      <td>southeast</td>\n",
       "      <td>1725.55230</td>\n",
       "    </tr>\n",
       "    <tr>\n",
       "      <th>2</th>\n",
       "      <td>28</td>\n",
       "      <td>male</td>\n",
       "      <td>33.000</td>\n",
       "      <td>3</td>\n",
       "      <td>no</td>\n",
       "      <td>southeast</td>\n",
       "      <td>4449.46200</td>\n",
       "    </tr>\n",
       "    <tr>\n",
       "      <th>3</th>\n",
       "      <td>33</td>\n",
       "      <td>male</td>\n",
       "      <td>22.705</td>\n",
       "      <td>0</td>\n",
       "      <td>no</td>\n",
       "      <td>northwest</td>\n",
       "      <td>21984.47061</td>\n",
       "    </tr>\n",
       "    <tr>\n",
       "      <th>4</th>\n",
       "      <td>32</td>\n",
       "      <td>male</td>\n",
       "      <td>28.880</td>\n",
       "      <td>0</td>\n",
       "      <td>no</td>\n",
       "      <td>northwest</td>\n",
       "      <td>3866.85520</td>\n",
       "    </tr>\n",
       "  </tbody>\n",
       "</table>\n",
       "</div>"
      ],
      "text/plain": [
       "   age     sex     bmi  children smoker     region      charges\n",
       "0   19  female  27.900         0    yes  southwest  16884.92400\n",
       "1   18    male  33.770         1     no  southeast   1725.55230\n",
       "2   28    male  33.000         3     no  southeast   4449.46200\n",
       "3   33    male  22.705         0     no  northwest  21984.47061\n",
       "4   32    male  28.880         0     no  northwest   3866.85520"
      ]
     },
     "execution_count": 3,
     "metadata": {},
     "output_type": "execute_result"
    }
   ],
   "source": [
    "#looking at first few observations\n",
    "\n",
    "df.head(5)"
   ]
  },
  {
   "cell_type": "markdown",
   "id": "d76783a0",
   "metadata": {},
   "source": [
    "age: age of primary beneficiary\n",
    "\n",
    "sex: insurance contractor gender, female, male\n",
    "\n",
    "bmi: Body mass index, providing an understanding of body, weights that are relatively high or low relative to height,\n",
    "objective index of body weight (kg / m ^ 2) using the ratio of height to weight, ideally 18.5 to 24.9\n",
    "\n",
    "children: Number of children covered by health insurance / Number of dependents\n",
    "\n",
    "smoker: Smoking\n",
    "\n",
    "region: the beneficiary's residential area in the US, northeast, southeast, southwest, northwest.\n",
    "\n",
    "charges: Individual medical costs billed by health insurance"
   ]
  },
  {
   "cell_type": "code",
   "execution_count": 6,
   "id": "ecf6381f",
   "metadata": {},
   "outputs": [
    {
     "name": "stdout",
     "output_type": "stream",
     "text": [
      "<class 'pandas.core.frame.DataFrame'>\n",
      "RangeIndex: 1338 entries, 0 to 1337\n",
      "Data columns (total 7 columns):\n",
      " #   Column    Non-Null Count  Dtype  \n",
      "---  ------    --------------  -----  \n",
      " 0   age       1338 non-null   int64  \n",
      " 1   sex       1338 non-null   object \n",
      " 2   bmi       1338 non-null   float64\n",
      " 3   children  1338 non-null   int64  \n",
      " 4   smoker    1338 non-null   object \n",
      " 5   region    1338 non-null   object \n",
      " 6   charges   1338 non-null   float64\n",
      "dtypes: float64(2), int64(2), object(3)\n",
      "memory usage: 73.3+ KB\n"
     ]
    }
   ],
   "source": [
    "df.info()"
   ]
  },
  {
   "cell_type": "markdown",
   "id": "c4bc6296",
   "metadata": {},
   "source": [
    "In total there are 7 columns and 1338 rows and data types are correctly handled "
   ]
  },
  {
   "cell_type": "markdown",
   "id": "b785cdcf",
   "metadata": {},
   "source": [
    "##### Looking for missing values"
   ]
  },
  {
   "cell_type": "code",
   "execution_count": 7,
   "id": "7e7ec1f9",
   "metadata": {},
   "outputs": [
    {
     "data": {
      "text/plain": [
       "age         0\n",
       "sex         0\n",
       "bmi         0\n",
       "children    0\n",
       "smoker      0\n",
       "region      0\n",
       "charges     0\n",
       "dtype: int64"
      ]
     },
     "execution_count": 7,
     "metadata": {},
     "output_type": "execute_result"
    }
   ],
   "source": [
    "#lets look for missing values\n",
    "\n",
    "df.isnull().sum()"
   ]
  },
  {
   "cell_type": "markdown",
   "id": "aa19bf8e",
   "metadata": {},
   "source": [
    "There are no missing values . Lets see is there any illegal entries in variable of type object"
   ]
  },
  {
   "cell_type": "markdown",
   "id": "41d47821",
   "metadata": {},
   "source": [
    "### Looking for illegal entries in object type vaariables"
   ]
  },
  {
   "cell_type": "code",
   "execution_count": 8,
   "id": "453117d2",
   "metadata": {},
   "outputs": [
    {
     "data": {
      "text/plain": [
       "array(['female', 'male'], dtype=object)"
      ]
     },
     "execution_count": 8,
     "metadata": {},
     "output_type": "execute_result"
    }
   ],
   "source": [
    "df.sex.unique()"
   ]
  },
  {
   "cell_type": "code",
   "execution_count": 9,
   "id": "3fa28b86",
   "metadata": {},
   "outputs": [
    {
     "data": {
      "text/plain": [
       "array(['yes', 'no'], dtype=object)"
      ]
     },
     "execution_count": 9,
     "metadata": {},
     "output_type": "execute_result"
    }
   ],
   "source": [
    "df.smoker.unique()"
   ]
  },
  {
   "cell_type": "code",
   "execution_count": 10,
   "id": "53b96865",
   "metadata": {},
   "outputs": [
    {
     "data": {
      "text/plain": [
       "array(['southwest', 'southeast', 'northwest', 'northeast'], dtype=object)"
      ]
     },
     "execution_count": 10,
     "metadata": {},
     "output_type": "execute_result"
    }
   ],
   "source": [
    "df.region.unique()"
   ]
  },
  {
   "cell_type": "markdown",
   "id": "34e488d4",
   "metadata": {},
   "source": [
    "Ok There are no illegal entries in object type variaables"
   ]
  },
  {
   "cell_type": "code",
   "execution_count": null,
   "id": "c7f169e3",
   "metadata": {},
   "outputs": [],
   "source": []
  },
  {
   "cell_type": "markdown",
   "id": "22025c7d",
   "metadata": {},
   "source": [
    "### EDA and statistical testing"
   ]
  },
  {
   "cell_type": "markdown",
   "id": "910acc0c",
   "metadata": {},
   "source": [
    "##### Target variable"
   ]
  },
  {
   "cell_type": "code",
   "execution_count": 14,
   "id": "f0c0adda",
   "metadata": {},
   "outputs": [
    {
     "data": {
      "text/plain": [
       "13270.422265141257"
      ]
     },
     "execution_count": 14,
     "metadata": {},
     "output_type": "execute_result"
    }
   ],
   "source": [
    "df.charges.mean()"
   ]
  },
  {
   "cell_type": "code",
   "execution_count": 22,
   "id": "66fe5583",
   "metadata": {},
   "outputs": [
    {
     "data": {
      "text/plain": [
       "Text(0, 0.5, 'Frequency')"
      ]
     },
     "execution_count": 22,
     "metadata": {},
     "output_type": "execute_result"
    },
    {
     "data": {
      "image/png": "[encoded data removed]",
      "text/plain": [
       "<Figure size 500x300 with 1 Axes>"
      ]
     },
     "metadata": {},
     "output_type": "display_data"
    }
   ],
   "source": [
    "plt.figure(figsize=(5,3))\n",
    "sns.histplot(df['charges'],kde=True)\n",
    "plt.title('Distribution of Charges')\n",
    "plt.xlabel('Chages')\n",
    "plt.ylabel('Frequency')"
   ]
  },
  {
   "cell_type": "code",
   "execution_count": 24,
   "id": "7f0053a4",
   "metadata": {},
   "outputs": [
    {
     "name": "stderr",
     "output_type": "stream",
     "text": [
      "C:\\Users\\shraj\\anaconda3\\lib\\site-packages\\seaborn\\_decorators.py:36: FutureWarning: Pass the following variable as a keyword arg: x. From version 0.12, the only valid positional argument will be `data`, and passing other arguments without an explicit keyword will result in an error or misinterpretation.\n",
      "  warnings.warn(\n"
     ]
    },
    {
     "data": {
      "text/plain": [
       "Text(0.5, 1.0, 'Boxplot of charges')"
      ]
     },
     "execution_count": 24,
     "metadata": {},
     "output_type": "execute_result"
    },
    {
     "data": {
      "image/png": "[encoded data removed]",
      "text/plain": [
       "<Figure size 500x300 with 1 Axes>"
      ]
     },
     "metadata": {},
     "output_type": "display_data"
    }
   ],
   "source": [
    "plt.figure(figsize=(5,3))\n",
    "sns.boxplot(df['charges'])\n",
    "plt.title('Boxplot of charges')"
   ]
  },
  {
   "cell_type": "code",
   "execution_count": 28,
   "id": "4aac8a76",
   "metadata": {},
   "outputs": [
    {
     "name": "stdout",
     "output_type": "stream",
     "text": [
      "mean 13270.422265141257\n",
      "median 9382.033\n",
      "standard_deviation 12105.484975561605\n"
     ]
    }
   ],
   "source": [
    "print('mean',np.mean(df.charges))\n",
    "print('median',np.median(df.charges))\n",
    "print('standard_deviation',np.std(df.charges))"
   ]
  },
  {
   "cell_type": "markdown",
   "id": "48eb1cd4",
   "metadata": {},
   "source": [
    "Data is right skewed looks like there are some outliers median is charge is 9382 standard deviation is quite high.\n",
    "\n",
    "Most of the target data scattered around 5000 to 15000."
   ]
  },
  {
   "cell_type": "code",
   "execution_count": null,
   "id": "57ebde24",
   "metadata": {},
   "outputs": [],
   "source": []
  },
  {
   "cell_type": "markdown",
   "id": "4987b9f8",
   "metadata": {},
   "source": [
    "### analysing age and   charges vs age"
   ]
  },
  {
   "cell_type": "code",
   "execution_count": 52,
   "id": "539fb519",
   "metadata": {},
   "outputs": [
    {
     "data": {
      "image/png": "[encoded data removed]",
      "text/plain": [
       "<Figure size 500x700 with 2 Axes>"
      ]
     },
     "metadata": {},
     "output_type": "display_data"
    }
   ],
   "source": [
    "fig,axes=plt.subplots(2,1,figsize=(5,7))\n",
    "plt.subplots_adjust(wspace=4,hspace=0.4)\n",
    "hist_plot=sns.histplot(df.age,ax=axes[0])\n",
    "hist_plot.set_title('Distribution of age')\n",
    "axes[1].scatter(x=df.age,y=df.charges)\n",
    "axes[1].set_title('Scatter plot of age and charges')\n",
    "axes[1].set_xlabel('age')\n",
    "axes[1].set_ylabel('charges')\n",
    "plt.show()\n"
   ]
  },
  {
   "cell_type": "code",
   "execution_count": 55,
   "id": "3c6db848",
   "metadata": {},
   "outputs": [
    {
     "data": {
      "image/png": "[encoded data removed]",
      "text/plain": [
       "<Figure size 500x300 with 1 Axes>"
      ]
     },
     "metadata": {},
     "output_type": "display_data"
    }
   ],
   "source": [
    "plt.figure(figsize=(5,3))\n",
    "plt.boxplot(df.age)\n",
    "plt.show()"
   ]
  },
  {
   "cell_type": "markdown",
   "id": "9ca987d7",
   "metadata": {},
   "source": [
    "Looks like there is decent realtion between age and charges but it doesnt looks like age contributes a lot(when alone) for predicting charges\n",
    "\n",
    "Looks like no outlier in age column\n",
    "\n",
    "lets check the relation between age and charges by fitting simple linear regression"
   ]
  },
  {
   "cell_type": "code",
   "execution_count": 68,
   "id": "96712fcc",
   "metadata": {},
   "outputs": [
    {
     "name": "stdout",
     "output_type": "stream",
     "text": [
      "r2_score (amount variation in charges captured by reltion between charges and age) :  0.08940589967885804\n"
     ]
    }
   ],
   "source": [
    "#note we will look at r2 score since it tells us how  much variaiton in charges is captured by relation between charge and age\n",
    "\n",
    "slr=LinearRegression()\n",
    "slr.fit(df[['age']],df[['charges']])\n",
    "predicted=slr.predict(df[['age']])\n",
    "print(\"r2_score (amount variation in charges captured by reltion between charges and age) : \",r2_score(df[['charges']],predicted))"
   ]
  },
  {
   "cell_type": "markdown",
   "id": "9e742a2b",
   "metadata": {},
   "source": [
    "Ok r2 score is low so it doesnt look like it contributes a lot. But it may contribute well in presence of other variables."
   ]
  },
  {
   "cell_type": "code",
   "execution_count": null,
   "id": "ea5fff99",
   "metadata": {},
   "outputs": [],
   "source": []
  },
  {
   "cell_type": "code",
   "execution_count": null,
   "id": "6d97bb70",
   "metadata": {},
   "outputs": [],
   "source": []
  },
  {
   "cell_type": "code",
   "execution_count": null,
   "id": "a24a5689",
   "metadata": {},
   "outputs": [],
   "source": []
  }
 ],
 "metadata": {
  "kernelspec": {
   "display_name": "Python 3 (ipykernel)",
   "language": "python",
   "name": "python3"
  },
  "language_info": {
   "codemirror_mode": {
    "name": "ipython",
    "version": 3
   },
   "file_extension": ".py",
   "mimetype": "text/x-python",
   "name": "python",
   "nbconvert_exporter": "python",
   "pygments_lexer": "ipython3",
   "version": "3.9.18"
  }
 },
 "nbformat": 4,
 "nbformat_minor": 5
}
